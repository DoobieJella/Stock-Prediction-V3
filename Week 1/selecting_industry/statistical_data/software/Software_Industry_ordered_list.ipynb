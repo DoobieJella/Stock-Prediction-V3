{
 "cells": [
  {
   "cell_type": "code",
   "execution_count": 1,
   "id": "a79c89de",
   "metadata": {},
   "outputs": [],
   "source": [
    "#!pip install yfinance\n",
    "import yfinance as yf\n",
    "import pandas as pd\n",
    "import csv\n",
    "import glob\n",
    "import os\n",
    "import matplotlib.pyplot as plt\n",
    "import numpy as np\n",
    "import statistics\n",
    "from datetime import datetime, timedelta"
   ]
  },
  {
   "cell_type": "code",
   "execution_count": 24,
   "id": "de959466",
   "metadata": {},
   "outputs": [],
   "source": [
    "a = os.getcwd()\n",
    "folder_names = glob.glob(a + '/*')\n",
    "dictio = {}\n",
    "for folder in folder_names:\n",
    "    if(len(folder) <= 110):\n",
    "        csv_file = folder + folder.split('software')[-1] + 'price_perc.csv'\n",
    "        df = pd.read_csv(csv_file)\n",
    "        Day_63 = df['Day +63']\n",
    "        Day_63 = [abs(val) for val in Day_63]\n",
    "        dictio[folder.split('software')[-1][1:]] = sum(Day_63)/len(Day_63)\n",
    "    "
   ]
  },
  {
   "cell_type": "code",
   "execution_count": 25,
   "id": "1b82cd74",
   "metadata": {},
   "outputs": [
    {
     "data": {
      "text/plain": [
       "[('DOX', 5.238423766157582),\n",
       " ('ACIW', 6.6932008783140855),\n",
       " ('EXLS', 6.775966594667579),\n",
       " ('G', 6.882241305689197),\n",
       " ('CVLT', 7.0249938759979385),\n",
       " ('MMS', 7.196404298365258),\n",
       " ('VRNT', 7.3835195587055775),\n",
       " ('DLB', 7.393742421053194),\n",
       " ('WU', 7.671210608848141),\n",
       " ('PRGS', 7.839986468804575),\n",
       " ('OTEX', 8.19744212204354),\n",
       " ('NCNO', 8.322523962944734),\n",
       " ('FOUR', 8.581921802035595),\n",
       " ('GWRE', 8.692352744539651),\n",
       " ('CCCS', 8.749839375838569),\n",
       " ('DV', 8.856661437952482),\n",
       " ('JAMF', 9.080700714966067),\n",
       " ('WNS', 9.240540662044397),\n",
       " ('TDC', 9.27726457122937),\n",
       " ('DXC', 9.384537071782875),\n",
       " ('EVTC', 9.457283415844593),\n",
       " ('BLKB', 9.564607546363051),\n",
       " ('ALTR', 10.71702068773022),\n",
       " ('NCR', 10.770077267799868),\n",
       " ('ESMT', 10.827066111727609),\n",
       " ('DAVA', 10.871651270973327),\n",
       " ('SPSC', 10.87801267234075),\n",
       " ('ALRM', 11.1790570764054),\n",
       " ('WEX', 11.277654987584453),\n",
       " ('PEGA', 11.295630023125257),\n",
       " ('DBX', 11.39673536334748),\n",
       " ('BOX', 11.409578197113959),\n",
       " ('CYBR', 11.840265075212306),\n",
       " ('FROG', 11.894560700332237),\n",
       " ('EEFT', 11.963525894265238),\n",
       " ('PCTY', 12.033976329463071),\n",
       " ('WIX', 12.292066931548927),\n",
       " ('PYCR', 12.599492850932785),\n",
       " ('QLYS', 12.607231062608994),\n",
       " ('PRFT', 13.316472184829363),\n",
       " ('NEWR', 13.646682802433103),\n",
       " ('ENV', 13.872455669756013),\n",
       " ('RNG', 13.96290789520172),\n",
       " ('PAYC', 14.545098152009642),\n",
       " ('PCOR', 14.99772309633237),\n",
       " ('APPF', 15.133074444971815),\n",
       " ('FIVN', 15.189962521857558),\n",
       " ('S', 15.253682420520414),\n",
       " ('WK', 15.319479506082622),\n",
       " ('INFA', 15.545235432019815),\n",
       " ('BL', 15.60802103730308),\n",
       " ('INST', 15.650444157407719),\n",
       " ('CWAN', 16.46597784898544),\n",
       " ('TWLO', 16.719000589016687),\n",
       " ('SMAR', 16.747204003884164),\n",
       " ('GLOB', 17.45820013266825),\n",
       " ('ESTC', 17.498222350723342),\n",
       " ('FLYW', 18.07473433298258),\n",
       " ('APPN', 18.187288539363855),\n",
       " ('YOU', 18.4316131747064),\n",
       " ('MNDY', 18.79671690893956),\n",
       " ('AYX', 19.024983792609156),\n",
       " ('CFLT', 19.280529411003958),\n",
       " ('FRSH', 19.787809862053976),\n",
       " ('TENB', 20.348916209781805),\n",
       " ('PAGS', 20.678032272168075),\n",
       " ('SQSP', 21.295526974814475),\n",
       " ('PATH', 21.44270496241938),\n",
       " ('STNE', 21.601832664825686),\n",
       " ('BILL', 21.631664592394518),\n",
       " ('NTNX', 22.410750362674786),\n",
       " ('DOCN', 22.922163438470186),\n",
       " ('DOCU', 23.159964841943772),\n",
       " ('PWSC', 23.296842635239614),\n",
       " ('DLO', 24.578890746300758),\n",
       " ('SPT', 24.95849509305564),\n",
       " ('U', 28.558942455469275),\n",
       " ('MQ', 30.974881621391877),\n",
       " ('AFRM', 38.20077757704395),\n",
       " ('ASAN', 39.74300563616434)]"
      ]
     },
     "execution_count": 25,
     "metadata": {},
     "output_type": "execute_result"
    }
   ],
   "source": [
    "dictio = sorted(dictio.items(), key=lambda x:x[1])\n",
    "dictio"
   ]
  },
  {
   "cell_type": "code",
   "execution_count": null,
   "id": "98cfa996",
   "metadata": {},
   "outputs": [],
   "source": []
  }
 ],
 "metadata": {
  "kernelspec": {
   "display_name": "Python 3 (ipykernel)",
   "language": "python",
   "name": "python3"
  },
  "language_info": {
   "codemirror_mode": {
    "name": "ipython",
    "version": 3
   },
   "file_extension": ".py",
   "mimetype": "text/x-python",
   "name": "python",
   "nbconvert_exporter": "python",
   "pygments_lexer": "ipython3",
   "version": "3.11.4"
  }
 },
 "nbformat": 4,
 "nbformat_minor": 5
}
