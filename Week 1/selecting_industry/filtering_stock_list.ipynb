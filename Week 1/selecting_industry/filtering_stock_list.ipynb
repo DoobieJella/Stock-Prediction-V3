{
 "cells": [
  {
   "cell_type": "code",
   "execution_count": 1,
   "metadata": {},
   "outputs": [
    {
     "name": "stdout",
     "output_type": "stream",
     "text": [
      "Requirement already satisfied: yfinance in /Users/victor/miniforge3/envs/NLP_env/lib/python3.8/site-packages (0.2.10)\n",
      "Requirement already satisfied: requests>=2.26 in /Users/victor/miniforge3/envs/NLP_env/lib/python3.8/site-packages (from yfinance) (2.28.2)\n",
      "Requirement already satisfied: multitasking>=0.0.7 in /Users/victor/miniforge3/envs/NLP_env/lib/python3.8/site-packages (from yfinance) (0.0.11)\n",
      "Requirement already satisfied: cryptography>=3.3.2 in /Users/victor/miniforge3/envs/NLP_env/lib/python3.8/site-packages (from yfinance) (37.0.4)\n",
      "Requirement already satisfied: lxml>=4.9.1 in /Users/victor/miniforge3/envs/NLP_env/lib/python3.8/site-packages (from yfinance) (4.9.1)\n",
      "Requirement already satisfied: frozendict>=2.3.4 in /Users/victor/miniforge3/envs/NLP_env/lib/python3.8/site-packages (from yfinance) (2.3.4)\n",
      "Requirement already satisfied: appdirs>=1.4.4 in /Users/victor/miniforge3/envs/NLP_env/lib/python3.8/site-packages (from yfinance) (1.4.4)\n",
      "Requirement already satisfied: beautifulsoup4>=4.11.1 in /Users/victor/miniforge3/envs/NLP_env/lib/python3.8/site-packages (from yfinance) (4.11.1)\n",
      "Requirement already satisfied: pandas>=1.3.0 in /Users/victor/miniforge3/envs/NLP_env/lib/python3.8/site-packages (from yfinance) (1.5.3)\n",
      "Requirement already satisfied: numpy>=1.16.5 in /Users/victor/miniforge3/envs/NLP_env/lib/python3.8/site-packages (from yfinance) (1.24.1)\n",
      "Requirement already satisfied: pytz>=2022.5 in /Users/victor/miniforge3/envs/NLP_env/lib/python3.8/site-packages (from yfinance) (2022.7)\n",
      "Requirement already satisfied: html5lib>=1.1 in /Users/victor/miniforge3/envs/NLP_env/lib/python3.8/site-packages (from yfinance) (1.1)\n",
      "Requirement already satisfied: soupsieve>1.2 in /Users/victor/miniforge3/envs/NLP_env/lib/python3.8/site-packages (from beautifulsoup4>=4.11.1->yfinance) (2.3.1)\n",
      "Requirement already satisfied: cffi>=1.12 in /Users/victor/miniforge3/envs/NLP_env/lib/python3.8/site-packages (from cryptography>=3.3.2->yfinance) (1.15.1)\n",
      "Requirement already satisfied: webencodings in /Users/victor/miniforge3/envs/NLP_env/lib/python3.8/site-packages (from html5lib>=1.1->yfinance) (0.5.1)\n",
      "Requirement already satisfied: six>=1.9 in /Users/victor/miniforge3/envs/NLP_env/lib/python3.8/site-packages (from html5lib>=1.1->yfinance) (1.16.0)\n",
      "Requirement already satisfied: python-dateutil>=2.8.1 in /Users/victor/miniforge3/envs/NLP_env/lib/python3.8/site-packages (from pandas>=1.3.0->yfinance) (2.8.2)\n",
      "Requirement already satisfied: idna<4,>=2.5 in /Users/victor/miniforge3/envs/NLP_env/lib/python3.8/site-packages (from requests>=2.26->yfinance) (3.3)\n",
      "Requirement already satisfied: charset-normalizer<4,>=2 in /Users/victor/miniforge3/envs/NLP_env/lib/python3.8/site-packages (from requests>=2.26->yfinance) (2.1.0)\n",
      "Requirement already satisfied: urllib3<1.27,>=1.21.1 in /Users/victor/miniforge3/envs/NLP_env/lib/python3.8/site-packages (from requests>=2.26->yfinance) (1.26.10)\n",
      "Requirement already satisfied: certifi>=2017.4.17 in /Users/victor/miniforge3/envs/NLP_env/lib/python3.8/site-packages (from requests>=2.26->yfinance) (2022.6.15)\n",
      "Requirement already satisfied: pycparser in /Users/victor/miniforge3/envs/NLP_env/lib/python3.8/site-packages (from cffi>=1.12->cryptography>=3.3.2->yfinance) (2.21)\n"
     ]
    }
   ],
   "source": [
    "!pip install yfinance"
   ]
  },
  {
   "cell_type": "code",
   "execution_count": 6,
   "metadata": {},
   "outputs": [],
   "source": [
    "import yfinance as yf"
   ]
  },
  {
   "cell_type": "code",
   "execution_count": 8,
   "metadata": {},
   "outputs": [
    {
     "name": "stdout",
     "output_type": "stream",
     "text": [
      "WARNING: No decryption keys could be extracted from JS file. Falling back to backup decrypt methods.\n",
      "WARNING: No decryption keys could be extracted from JS file. Falling back to backup decrypt methods.\n",
      "WARNING: No decryption keys could be extracted from JS file. Falling back to backup decrypt methods.\n",
      "WARNING: No decryption keys could be extracted from JS file. Falling back to backup decrypt methods.\n",
      "WARNING: No decryption keys could be extracted from JS file. Falling back to backup decrypt methods.\n"
     ]
    }
   ],
   "source": [
    "import glob\n",
    "import os\n",
    "\n",
    "folder_names = glob.glob('../sectors/*')  \n",
    "\n",
    "mydict = {}\n",
    "total_count = 0\n",
    "count = 0\n",
    "for folder in folder_names:\n",
    "    folder_name = glob.glob(folder+'/*') \n",
    "    industry = folder_name[0].split('/')[-2]\n",
    "    stocklist = []\n",
    "    for stock in folder_name:\n",
    "        try:\n",
    "            ticker_name = os.path.basename(stock)\n",
    "\n",
    "            yfstock = yf.Ticker(ticker_name)\n",
    "            market_cap = yfstock.fast_info['market_cap']\n",
    "            total_count += 1\n",
    "            if market_cap > 200000000 and market_cap < 10000000000:\n",
    "                count += 1\n",
    "                stocklist.append(ticker_name)\n",
    "        except:\n",
    "            continue\n",
    "    mydict[industry] = stocklist"
   ]
  },
  {
   "cell_type": "code",
   "execution_count": 11,
   "metadata": {},
   "outputs": [
    {
     "data": {
      "text/plain": [
       "(2331, 1528)"
      ]
     },
     "execution_count": 11,
     "metadata": {},
     "output_type": "execute_result"
    }
   ],
   "source": [
    "total_count, count # eliminated 803 stocks"
   ]
  },
  {
   "cell_type": "code",
   "execution_count": 30,
   "metadata": {},
   "outputs": [],
   "source": [
    "'''\n",
    "Writing the filtered stock dictionary to csv file\n",
    "'''\n",
    "\n",
    "import csv\n",
    "\n",
    "csv_file = 'filtered_stock.csv'\n",
    "\n",
    "with open(csv_file, 'w', newline='') as csvfile:\n",
    "    fieldnames = ['Key', 'Values']  # Define the CSV header\n",
    "    writer = csv.DictWriter(csvfile, fieldnames=fieldnames)\n",
    "    \n",
    "    # Write the header row\n",
    "    writer.writeheader()\n",
    "    \n",
    "    # Write data from the dictionary to the CSV\n",
    "    for key, values in mydict.items():\n",
    "        writer.writerow({'Key': key, 'Values': ', '.join(values)})"
   ]
  },
  {
   "cell_type": "code",
<<<<<<< HEAD
   "execution_count": 31,
   "metadata": {},
   "outputs": [
    {
     "name": "stdout",
     "output_type": "stream",
     "text": [
      "{'transportation': ['SB', 'ULCC', 'PANL', 'AAL', 'RLGT', 'GNK', 'CAR', 'ARCB', 'CPA', 'DSKE', 'FWRD', 'WERN', 'TSP', 'SBLK', 'XPO', 'LYFT', 'SNCY', 'ULH', 'SKYW', 'JOBY', 'R', 'GOGL', 'ALK', 'KEX', 'ALGT', 'CHRW', 'LSTR', 'ZIM', 'NETI', 'KNX', 'UP', 'GSL', 'CMRE', 'HA', 'SNDR', 'YMM', 'HUBG', 'EGLE', 'DAC', 'GXO', 'SAVE', 'UHAL', 'MATX', 'JBLU', 'ATSG', 'DSX', 'CAAP', 'CVLG'], 'materials': ['CDE', 'AMR', 'CMC', 'PCT', 'LXU', 'DRD', 'CMP', 'CBT', 'EMN', 'AXTA', 'BERY', 'TROX', 'NEXA', 'HAYN', 'BIOX', 'SMG', 'HL', 'MUX', 'NEU', 'IPI', 'TRS', 'SLGN', 'PTVE', 'RYI', 'KRO', 'TSE', 'SEE', 'VVV', 'SXT', 'CCK', 'PACK', 'CLF', 'GEF', 'BVN', 'SCHN', 'LPX', 'MERC', 'HUN', 'CENX', 'OEC', 'BCPC', 'KOP', 'TX', 'MTRN', 'ECVT', 'IOSP', 'LOMA', 'KALU', 'CSTM', 'SUM', 'SLVM', 'AMBP', 'AVD', 'MYE', 'MP', 'GSM', 'ASPN', 'HCC', 'AA', 'GPK', 'ESI', 'TMST', 'ASH', 'RGLD', 'SCL', 'ATR', 'CC', 'CRS', 'ATI', 'KWR', 'FF', 'FMC', 'DNA', 'WOR', 'AVNT', 'EXP', 'OI', 'MTX', 'OLN', 'CLW', 'NGVT', 'MATV', 'X', 'LTHM', 'SXC', 'ZEUS', 'WRK', 'ASIX', 'FUL', 'TMC', 'METC'], 'consumer-services': ['DENN', 'LRN', 'ADT', 'CHUY', 'CHH', 'PTLO', 'AGS', 'GHG', 'DESP', 'OSW', 'ARCE', 'NCLH', 'SHAK', 'NRDY', 'TAST', 'CZR', 'FRGI', 'RICK', 'TXRH', 'RSI', 'PZZA', 'BJRI', 'SCI', 'INSE', 'ARMK', 'MTN', 'STRA', 'DAO', 'BYD', 'VTRU', 'PRDO', 'ROVR', 'EWCZ', 'PLYA', 'MCW', 'TAL', 'UTI', 'WW', 'CBRL', 'LIND', 'MMYT', 'LINC', 'PENN', 'HRB', 'BFAM', 'EAT', 'MLCO', 'IGT', 'EVRI', 'BLMN', 'LAUR', 'DIN', 'CSV', 'KRUS', 'ARCO', 'BALY', 'CHDN', 'LOPE', 'FTDR', 'JACK', 'RRR', 'CHGG', 'VSTA', 'AFYA', 'NGMS', 'ATGE', 'HGV', 'NAAS', 'DUOL', 'WEN', 'SIX', 'ACEL', 'PLAY', 'BROS', 'COUR', 'GDEN', 'PLNT', 'PBPB', 'GENI', 'LOCO', 'UDMY', 'TH', 'WING', 'VAC', 'CAKE', 'SEAS', 'TNL', 'DNUT', 'WH'], 'energy': ['MGY', 'STNG', 'PTEN', 'CNX', 'ETRN', 'RES', 'SM', 'CEIX', 'FRO', 'EVA', 'CLNE', 'HP', 'AM', 'XPRO', 'NOG', 'WHD', 'RRC', 'DEN', 'REGI', 'GPRE', 'CRK', 'ESTE', 'INSW', 'NBR', 'CRC', 'GPOR', 'HPK', 'CHRD', 'TALO', 'CHX', 'BTU', 'RIG', 'ENLC', 'FTI', 'LBRT', 'DTM', 'MUR', 'CVI', 'ARCH', 'GLNG', 'AR', 'CPE', 'NFE', 'NE', 'NOV', 'HESM', 'NEX', 'DK', 'MTDR', 'RTLR', 'PBF', 'KOS', 'SWN', 'WFRD'], 'pharmaceuticals-biotech': ['MRTX', 'TLRY', 'IRWD', 'ARWR', 'AMPH', 'TWST', 'OGN', 'SRPT', 'TVTX', 'BIO', 'BPMC', 'SNDX', 'IMGN', 'SHC', 'RVMD', 'CERE', 'TXG', 'RGEN', 'NEO', 'CLDX', 'RYTM', 'STVN', 'MEDP', 'RVNC', 'TGTX', 'SYNH', 'BHC', 'CRL', 'INSM', 'CPRX', 'ADPT', 'PACB', 'MRVI', 'HALO', 'CTLT', 'SUPN', 'NTRA', 'PRGO', 'VCYT', 'XENE', 'FATE', 'ABCL', 'CTKB', 'CYTK', 'MYGN', 'LGND', 'BCRX', 'IOVA', 'ZLAB', 'PTCT', 'RETA', 'RARE', 'ASND', 'ALLO', 'EXEL', 'NVAX', 'APLS', 'IONS', 'CORT', 'ACAD', 'ITCI', 'TEVA', 'XNCR', 'BRKR', 'FOLD', 'BEAM', 'QGEN', 'NTLA', 'AGIO', 'PCRX', 'TECH', 'DVAX', 'ACRS', 'AXSM', 'HRMY', 'ELAN', 'ALKS', 'PBH', 'SAGE', 'JAZZ'], 'healthcare': ['NVST', 'ICUI', 'AMN', 'AHCO', 'NRC', 'PODD', 'PRCT', 'TFX', 'MASI', 'OMCL', 'OMI', 'GKOS', 'RCM', 'HIMS', 'QDEL', 'IRTC', 'EHC', 'NARI', 'GMED', 'CCRN', 'GH', 'EVH', 'TDOC', 'UHS', 'MODV', 'USPH', 'LIVN', 'SGRY', 'DH', 'ATEC', 'PDCO', 'MPLN', 'OPK', 'ENSG', 'FIGS', 'HAE', 'AMEH', 'SEM', 'SLP', 'SWAV', 'ACCD', 'AXNX', 'OM', 'INSP', 'PRVA', 'BKD', 'SHCR', 'HSIC', 'SENS', 'OPCH', 'ALHC', 'DOCS', 'LFST', 'TMCI', 'THC', 'AGTI', 'PEN', 'RDNT', 'SILK', 'ATRC', 'CSTL', 'LMAT', 'PGNY', 'LNTH', 'PINC', 'HQY', 'STAA', 'MMSI', 'FLGT', 'CHE', 'AGL', 'TMDX', 'MDRX', 'ME', 'CNMD', 'CERT', 'NXGN', 'CERS', 'ACHC', 'CRVL', 'MD', 'NEOG', 'SDGR', 'NUVA', 'VREX', 'ESTA', 'ITGR', 'CLOV', 'NVCR', 'AVNS', 'ADUS', 'TNDM', 'AMED', 'GDRX', 'KIDS', 'DVA', 'HSTM', 'ANGO', 'INMD', 'IART', 'INNV', 'XRAY', 'AMWL', 'NNOX', 'NVRO'], 'consumer-retailing': ['GO', 'BJ', 'CHEF', 'SFM', 'PFGC', 'ANDE', 'NGVC', 'UNFI', 'PSMT', 'SPTN', 'USFD'], 'real-estate': ['LAND', 'PCH', 'SAFE', 'BRT', 'ALEX', 'PK', 'FRT', 'LTC', 'NMRK', 'GNL', 'EPRT', 'DBRG', 'UNIT', 'REXR', 'PEB', 'APLE', 'CPT', 'CSR', 'DEA', 'OUT', 'DEI', 'KW', 'RYN', 'RPT', 'CTRE', 'NHI', 'CUBE', 'KRG', 'BDN', 'ESRT', 'HPP', 'OFC', 'EXPI', 'NSA', 'SBRA', 'XHR', 'COMP', 'RDFN', 'AIRC', 'ALX', 'STAG', 'ZG', 'SVC', 'BXP', 'MAC', 'IIPR', 'EGP', 'AAT', 'NTST', 'LXP', 'INN', 'FRPH', 'CBL', 'OHI', 'WSR', 'LAMR', 'AKR', 'DRH', 'BRX', 'PEAK', 'ADC', 'AHH', 'MMI', 'COLD', 'GOOD', 'RLJ', 'OPI', 'SITC', 'HT', 'UMH', 'JLL', 'HIW', 'CUZ', 'CLDT', 'SKT', 'EPR', 'SHO', 'HR', 'JOE', 'ROIC', 'FOR', 'GMRE', 'MPW', 'DOC', 'HOUS', 'NNN', 'FR', 'IRT', 'GTY', 'CWK', 'BNL', 'CHCT', 'KRC', 'SLG', 'EQC', 'RMAX', 'PGRE', 'NXRT', 'FPI', 'RMR', 'OPEN', 'PECO', 'PLYM', 'RHP', 'FCPT', 'AIV', 'SRC', 'PDM', 'VNO'], 'capital-goods': ['ARRY', 'CSWI', 'SSD', 'ALLE', 'WSC', 'KMT', 'TREX', 'HRI', 'CHPT', 'ENS', 'CNM', 'TEX', 'WMS', 'TRN', 'BE', 'OSK', 'ESE', 'HII', 'WIRE', 'AL', 'AZEK', 'RKLB', 'TTC', 'MTZ', 'UFPI', 'ENVX', 'LNN', 'CR', 'ITT', 'JBT', 'AIT', 'ACA', 'AMRC', 'GTES', 'WWD', 'PNR', 'NPO', 'GTLS', 'STEM', 'AIN', 'ST', 'GMS', 'HXL', 'MDU', 'EME', 'KAI', 'SPR', 'AYI', 'FLR', 'DCI', 'MRCY', 'GATX', 'FIX', 'BECN', 'FELE', 'FLS', 'DY', 'HAYW', 'MSM', 'MIDD', 'BCC', 'SITE', 'VICR', 'HI', 'TRTN', 'APG', 'BWXT', 'AVAV', 'SHLS', 'NVEE', 'AAON', 'ATKR', 'PSN', 'WCC', 'CW', 'RUN', 'SPXC', 'AGCO', 'ALSN', 'AWI', 'SPWR', 'FSS', 'PLUG', 'MGRC', 'WTS', 'GNRC', 'TKR', 'NVT', 'REZI', 'B', 'IEP', 'VMI', 'ALG'], 'retail': ['GME', 'AAP', 'DADA', 'ANF', 'CRMT', 'OSTK', 'DXLG', 'HIBB', 'WSM', 'CHS', 'JWN', 'EYE', 'GPI', 'BOOT', 'PLCE', 'MNRO', 'GPS', 'LQDT', 'SNBR', 'FLWS', 'CWH', 'ARKO', 'LAD', 'BKE', 'XMTR', 'SIG', 'BBWI', 'SCVL', 'LE', 'DBI', 'TTSH', 'DKS', 'BBW', 'FL', 'ARHS', 'VIPS', 'ZUMZ', 'GES', 'FVRR', 'TLYS', 'ETSY', 'BWMX', 'RH', 'HVT', 'CAL', 'FNKO', 'ABG', 'AAN', 'WOOF', 'ODP', 'MUSA', 'AN', 'JMIA', 'SAH', 'KSS', 'GRPN', 'JILL', 'BURL', 'SBH', 'LESL', 'FND', 'MNSO', 'SFIX', 'URBN', 'FTCH', 'BRLT', 'RVLV', 'EVGO', 'CTRN', 'ONEW', 'WEYS', 'MYTE', 'M', 'TDUP', 'HZO', 'FIVE', 'CHWY', 'AEO', 'GCO', 'QUOT', 'W'], 'software': ['DXC', 'TENB', 'ESMT', 'CCCS', 'GWRE', 'AYX', 'BOX', 'BL', 'BILL', 'SPSC', 'TWKS', 'WNS', 'DLO', 'DAVA', 'EXLS', 'CFLT', 'TWLO', 'ACIW', 'JAMF', 'QLYS', 'PATH', 'CWAN', 'CYBR', 'WEX', 'PCTY', 'ESTC', 'DOCU', 'U', 'SMAR', 'DOCN', 'OTEX', 'G', 'WK', 'FIVN', 'S', 'PRGS', 'EVTC', 'PEGA', 'MMS', 'FRSH', 'ENV', 'PRFT', 'SPT', 'NEWR', 'INFA', 'PAGS', 'STNE', 'BLKB', 'ASAN', 'PWSC', 'ALRM', 'DV', 'PAYC', 'VRNT', 'NCR', 'AFRM', 'NTNX', 'FLYW', 'ALTR', 'DOX', 'DLB', 'MQ', 'GLOB', 'EEFT', 'NCNO', 'WIX', 'YOU', 'FROG', 'DBX', 'PYCR', 'INST', 'WU', 'PCOR', 'CVLT', 'TDC', 'APPF', 'RNG', 'SQSP', 'CNXC', 'APPN', 'MNDY', 'FOUR'], 'utilities': ['NWN', 'OGS', 'GNE', 'HE', 'MNTK', 'NFG', 'AY', 'AVA', 'CWT', 'ORA', 'WTRG', 'NOVA', 'RNW', 'ALE', 'SWX', 'POR', 'OGE', 'IDA', 'GWRS', 'SR', 'NWE', 'CWCO', 'CPK', 'PCYO', 'NJR', 'UGI', 'BKH', 'OTTR', 'SJW', 'AWR', 'UTL', 'PNW', 'PNM'], 'food-beverage-tobacco': ['LANC', 'LMNR', 'STKL', 'UVV', 'POST', 'TWNK', 'JJSF', 'SAM', 'AVO', 'DAR', 'SOVO', 'BGS', 'PPC', 'TPB', 'OTLY', 'INGR', 'UTZ', 'BYND', 'MGPI', 'RLX', 'VITL', 'CVGW', 'FRPT', 'JBSS', 'FLO', 'FDP', 'NOMD', 'SMPL', 'NAPA', 'THS', 'HAIN', 'AGRO', 'VGR'], 'telecom': ['TIGO', 'CNSL', 'LUMN', 'ATEX', 'GSAT', 'ATNI', 'RADI', 'BAND', 'TDS', 'FYBR', 'OOMA', 'SPOK', 'IDT', 'SIFY', 'CCOI', 'SATS', 'VEON', 'SHEN', 'IRDM', 'ASTS', 'GOGO', 'LILA'], 'automobiles': ['XPEL', 'THRM', 'WGO', 'CPS', 'GT', 'DAN', 'QS', 'SRI', 'GNTX', 'ALV', 'BWA', 'FOXF', 'VC', 'HOG', 'LEA', 'KNDI', 'SMP', 'AXL', 'GTX', 'PATK', 'MOD', 'FSR', 'ADNT'], 'diversified-financials': ['VCTR', 'OMF', 'ECPG', 'CACC', 'AMG', 'BRSP', 'PJT', 'ALLY', 'AGNC', 'PWP', 'DFIN', 'HASI', 'RWT', 'EVR', 'BRDG', 'BXMT', 'PRG', 'LC', 'EQH', 'STWD', 'JHG', 'ARR', 'HLNE', 'ARI', 'SLM', 'APAM', 'EFC', 'STEP', 'NAVI', 'HTGC', 'AMRK', 'MFA', 'PAX', 'VRTS', 'PMT', 'CIM', 'KREF', 'NYMT', 'UPST', 'VIRT', 'SEIC', 'SOFI', 'CNS', 'ABR', 'LADR', 'SF', 'QFIN', 'BSIG', 'RITM', 'AMK', 'CNNE', 'FUTU', 'PIPR', 'MC', 'TWO', 'NLY', 'HLI', 'RILY', 'LPRO', 'IVZ', 'FINV', 'LU', 'NNI', 'GDOT', 'ENVA', 'SNEX', 'FHI', 'LAZ', 'NOAH', 'MAIN', 'RC', 'PRAA', 'VOYA', 'MKTX', 'CODI'], 'consumer-durables': ['MDC', 'MHO', 'TMHC', 'GOLF', 'GRBK', 'SNPO', 'MAT', 'PII', 'PTON', 'HOV', 'SKY', 'SKX', 'LOVE', 'CLAR', 'BC', 'UAA', 'BLD', 'TPX', 'VUZI', 'VZIO', 'LSEA', 'MTH', 'KTB', 'JAKK', 'PVH', 'ETD', 'CVCO', 'LGIH', 'JOUT', 'CROX', 'CRCT', 'LZB', 'WWW', 'SONO', 'VOXX', 'MHK', 'VFC', 'KBH', 'DTC', 'COLM', 'NWL', 'IBP', 'COOK', 'LEVI', 'SWIM', 'MPX', 'MODG', 'WHR', 'LEG', 'VRA', 'VSTO', 'MCFT', 'HAS', 'OXM', 'IRBT', 'CPRI', 'TPR', 'HBI', 'GPRO', 'TPH', 'CRI', 'MBUU', 'POWW', 'SHOO', 'SWBI', 'RGR', 'CCS', 'BZH', 'RL', 'HELE', 'YETI', 'MOV'], 'household': ['SPB', 'ENR', 'SKIN', 'OLPX', 'EPC', 'LFMD', 'IPAR', 'NATR', 'ODC', 'USNA', 'HLF', 'BRBR', 'COTY', 'WDFC', 'REYN', 'CENT', 'ELF', 'NUS', 'MED'], 'tech': ['ROG', 'AUDC', 'NNDM', 'UI', 'NSIT', 'MASS', 'CAN', 'EXTR', 'ARLO', 'IMMR', 'AVID', 'AVT', 'KE', 'ADTN', 'IONQ', 'CMTL', 'MVIS', 'XRX', 'NTGR', 'LASR', 'JNPR', 'OSIS', 'BMI', 'IPGP', 'LITE', 'NSSC', 'VSH', 'VPG', 'RDWR', 'NTCT', 'INVZ', 'BHE', 'AEIS', 'CTS', 'AVNW', 'HOLI', 'COMM', 'NOVT', 'COHR', 'MEI', 'FFIV', 'CNXN', 'DAKT', 'NATI', 'CALX', 'GILT', 'ITRI', 'PLXS', 'ITRN', 'RBBN', 'CIEN', 'FARO', 'INFN', 'KN', 'SNX', 'HLIT', 'EVLV', 'SMRT', 'CRSR', 'SCSC', 'FN', 'AAOI', 'ARW', 'VIAV', 'BDC', 'DBD', 'CLFD', 'LFUS', 'VSAT', 'DGII', 'TTMI', 'KODK', 'VNT', 'SSYS', 'PAR', 'SANM', 'PLUS', 'CGNX'], 'banks': ['PEBO', 'CBU', 'EWBC', 'NBHC', 'HOMB', 'EBC', 'HTLF', 'PB', 'PFC', 'SSB', 'HWC', 'ESNT', 'HFWA', 'AX', 'EGBN', 'LOB', 'BY', 'BRKL', 'ASB', 'OZK', 'RNST', 'FCF', 'PNFP', 'WAL', 'FHB', 'FBP', 'SBCF', 'EFSC', 'FIBK', 'FBK', 'VBTX', 'LBAI', 'CASH', 'OSBC', 'BOKF', 'BANC', 'NBTB', 'MTG', 'WSBC', 'CNOB', 'UVSP', 'WD', 'PPBI', 'ACT', 'CFR', 'QCRH', 'CADE', 'WTFC', 'NYCB', 'ABCB', 'OCFC', 'STBA', 'SBSI', 'COLB', 'PFS', 'FFBC', 'NTB', 'FULT', 'AGM', 'CVBF', 'HTH', 'CMA', 'TCBI', 'COOP', 'VLY', 'ONB', 'SFBS', 'UCBI', 'AUB', 'WBS', 'SFNC', 'FRME', 'UMBF', 'ZION', 'CATY', 'SNV', 'IBTX', 'BOH', 'NMIH', 'WSFS', 'AMAL', 'HOPE', 'TRST', 'WASH', 'GSBC', 'SASR', 'TBBK', 'PFBC', 'FFWM', 'BANR', 'FNB', 'GBCI', 'FHN', 'BKU', 'BPOP', 'TRMK', 'AMTB', 'INDB', 'OFG', 'DCOM', 'BHLB', 'TFSL', 'RDN', 'HAFC'], 'insurance': ['AMSF', 'UVE', 'SPNT', 'AGO', 'MBI', 'RLI', 'GNW', 'OSCR', 'UNM', 'PRA', 'PRI', 'HCI', 'KMPR', 'ORI', 'HMN', 'AXS', 'GBLI', 'AIZ', 'EIG', 'STC', 'SLQT', 'GLRE', 'MCY', 'AEL', 'CNO', 'BRP', 'KNSL', 'UFCS', 'LMND', 'JRVR', 'GOCO', 'EHTH', 'TIPT', 'AMBC', 'LNC', 'GSHD', 'BHF', 'FAF', 'PLMR', 'ARGO', 'TRUP', 'FANH', 'SIGI', 'AFG', 'THG', 'RGA'], 'semiconductors': ['MKSI', 'AOSL', 'FORM', 'AMKR', 'CSIQ', 'AMBA', 'SLAB', 'VECO', 'SGH', 'CRUS', 'LSCC', 'JKS', 'ACLS', 'OLED', 'POWI', 'SYNA', 'RMBS', 'MXL', 'SEDG', 'COHU', 'QRVO', 'ONTO', 'MTSI', 'INDI', 'HIMX', 'WOLF', 'PI', 'DQ', 'SITM', 'ACMR', 'MX', 'PDFS', 'AEHR', 'NVMI', 'ICHR', 'SMTC', 'KLIC', 'PLAB', 'CEVA', 'SKYT', 'NVEC', 'TSEM', 'CAMT', 'DIOD', 'MAXN', 'UCTT', 'SIMO', 'ALGM'], 'commercial-services': ['HQI', 'MAN', 'SP', 'VSEC', 'ABM', 'ASGN', 'CBZ', 'QUAD', 'BBSI', 'FCN', 'MSA', 'TRU', 'BCO', 'BV', 'WLDN', 'SCS', 'CXW', 'FC', 'HNI', 'DNB', 'GEO', 'RHI', 'KFY', 'CLH', 'HURN', 'SRCL', 'CWST', 'TILE', 'MEG', 'EXPO', 'HCCI', 'RGP', 'CACI', 'UPWK', 'CRAI', 'KBR', 'ACVA', 'CLVT', 'SAIC', 'FORR', 'KAR', 'BRC', 'TTEK', 'DLX', 'HCSG', 'RDVT', 'UNF', 'TNET', 'DRVN', 'ACCO', 'ICFI', 'FA', 'HSII', 'CMPR', 'LZ', 'VVI', 'NSP', 'PBI', 'KFRC', 'CVEO', 'STER', 'MATW', 'TBI'], 'media': ['YY', 'TGNA', 'EDR', 'IAS', 'CNK', 'SSTK', 'SSP', 'NXST', 'THRY', 'SBGI', 'EVER', 'MGNI', 'MYPS', 'IMAX', 'DISH', 'TBLA', 'PUBM', 'AMCX', 'OB', 'BMBL', 'EB', 'WOW', 'CDLX', 'VTEX', 'ATHM', 'YELP', 'TRVG', 'GTN', 'CABO', 'NYT', 'WWE', 'WB', 'EEX', 'ATUS', 'MAX', 'STGW', 'AMC', 'HUYA', 'PLTK', 'ZIP', 'ZH', 'IAC', 'ADV', 'TRIP', 'MOMO', 'CARG', 'BZ', 'BILI', 'DOYU', 'MANU', 'CARS', 'EVC', 'IHRT', 'MTCH', 'NCMI', 'SCPL', 'YALA', 'CRTO', 'IQ', 'PERI', 'QNST', 'GCI', 'CCO', 'SOHU', 'SCHL', 'ANGI', 'MCS', 'FUBO', 'TTGT']}\n"
=======
   "execution_count": 1,
   "metadata": {},
   "outputs": [
    {
     "ename": "NameError",
     "evalue": "name 'csv' is not defined",
     "output_type": "error",
     "traceback": [
      "\u001b[1;31m---------------------------------------------------------------------------\u001b[0m",
      "\u001b[1;31mNameError\u001b[0m                                 Traceback (most recent call last)",
      "Cell \u001b[1;32mIn[1], line 11\u001b[0m\n\u001b[0;32m      9\u001b[0m \u001b[38;5;66;03m# Read data from the CSV file\u001b[39;00m\n\u001b[0;32m     10\u001b[0m \u001b[38;5;28;01mwith\u001b[39;00m \u001b[38;5;28mopen\u001b[39m(csv_file, newline\u001b[38;5;241m=\u001b[39m\u001b[38;5;124m'\u001b[39m\u001b[38;5;124m'\u001b[39m) \u001b[38;5;28;01mas\u001b[39;00m csvfile:\n\u001b[1;32m---> 11\u001b[0m     reader \u001b[38;5;241m=\u001b[39m csv\u001b[38;5;241m.\u001b[39mDictReader(csvfile)\n\u001b[0;32m     13\u001b[0m     \u001b[38;5;28;01mfor\u001b[39;00m row \u001b[38;5;129;01min\u001b[39;00m reader:\n\u001b[0;32m     14\u001b[0m         key \u001b[38;5;241m=\u001b[39m row[\u001b[38;5;124m'\u001b[39m\u001b[38;5;124mKey\u001b[39m\u001b[38;5;124m'\u001b[39m]\n",
      "\u001b[1;31mNameError\u001b[0m: name 'csv' is not defined"
>>>>>>> pr/1
     ]
    }
   ],
   "source": [
    "'''\n",
    "Reading from the csv file\n",
    "'''\n",
    "\n",
    "csv_file = 'filtered_stock.csv'\n",
    "\n",
    "filtered_stock = {}\n",
    "\n",
    "# Read data from the CSV file\n",
    "with open(csv_file, newline='') as csvfile:\n",
    "    reader = csv.DictReader(csvfile)\n",
    "    \n",
    "    for row in reader:\n",
    "        key = row['Key']\n",
    "        values = row['Values'].split(', ')  # Split the values by commas\n",
<<<<<<< HEAD
    "        data[key] = values\n",
=======
    "        #data[key] = values\n",
>>>>>>> pr/1
    "\n",
    "# Now 'data' contains the dictionary you originally wrote to the CSV file\n",
    "print(filtered_stock)"
   ]
<<<<<<< HEAD
=======
  },
  {
   "cell_type": "code",
   "execution_count": null,
   "metadata": {},
   "outputs": [],
   "source": []
>>>>>>> pr/1
  }
 ],
 "metadata": {
  "kernelspec": {
<<<<<<< HEAD
   "display_name": "Python 3.8.13",
=======
   "display_name": "Python 3 (ipykernel)",
>>>>>>> pr/1
   "language": "python",
   "name": "python3"
  },
  "language_info": {
   "codemirror_mode": {
    "name": "ipython",
    "version": 3
   },
   "file_extension": ".py",
   "mimetype": "text/x-python",
   "name": "python",
   "nbconvert_exporter": "python",
   "pygments_lexer": "ipython3",
<<<<<<< HEAD
   "version": "3.8.13"
  },
  "orig_nbformat": 4,
=======
   "version": "3.11.4"
  },
>>>>>>> pr/1
  "vscode": {
   "interpreter": {
    "hash": "6271ad5a9cfee5fbc27e23facc018ff52eb81071ca31a423a1af489ce9841234"
   }
  }
 },
 "nbformat": 4,
 "nbformat_minor": 2
}
